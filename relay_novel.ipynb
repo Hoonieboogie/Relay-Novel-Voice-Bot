{
 "cells": [
  {
   "cell_type": "code",
   "execution_count": 1,
   "id": "3c60e53d",
   "metadata": {},
   "outputs": [],
   "source": [
    "from dotenv import load_dotenv\n",
    "import os\n",
    "\n",
    "load_dotenv()\n",
    "OPENAI_API_KEY = os.getenv('OPENAI_API_KEY')"
   ]
  },
  {
   "cell_type": "code",
   "execution_count": 10,
   "id": "25aab96c",
   "metadata": {},
   "outputs": [],
   "source": [
    "system_prompt = \"\"\" \n",
    "너는 나랑 말은 되지만 굉장히 웃긴 릴레이 소설을 쓸거야.\n",
    "또한 너는 노벨 문학상과 세계 최고의 코메디언 상을 받을 정도의 실력자야. \n",
    "서로 턴마다 한 문장씩 말하자!\n",
    "명심해. 전체 스토리 흐름을 파악하고 그에 알맞게 대답해야해.\n",
    "\"\"\"\n",
    "\n",
    "messages=[\n",
    "    {\"role\": \"system\", \"content\": system_prompt}\n",
    "]"
   ]
  },
  {
   "cell_type": "code",
   "execution_count": 7,
   "id": "645dfe80",
   "metadata": {},
   "outputs": [],
   "source": [
    "from openai import OpenAI\n",
    "\n",
    "\n",
    "def relay_novel(messages):\n",
    "    client = OpenAI()\n",
    "\n",
    "    response = client.chat.completions.create(\n",
    "        model=\"gpt-4o-mini\",\n",
    "        messages= messages,\n",
    "        temperature=0.7,\n",
    "        max_tokens=1028,\n",
    "        top_p=0.8\n",
    "    )\n",
    "    \n",
    "    return response.choices[0].message.content"
   ]
  },
  {
   "cell_type": "code",
   "execution_count": 8,
   "id": "aaa2b17b",
   "metadata": {},
   "outputs": [],
   "source": [
    "def trim_messages(messages, max_turns=20):\n",
    "    \"\"\"\n",
    "    대화가 너무 길어져서 토큰 한도를 초과하지 않도록,\n",
    "    시스템 메시지(규칙) + 최근 max_turns(턴 수)의 user/assistant 대화만 남기고\n",
    "    오래된 대화는 잘라내는 함수.\n",
    "    \"\"\"\n",
    "    # messages 리스트가 비었거나, 첫 번째 메시지가 system 역할이 아닐 경우 그대로 반환\n",
    "    if not messages or messages[0].get(\"role\") != \"system\":\n",
    "        return messages  \n",
    "\n",
    "    # 항상 유지해야 하는 system 메시지 (게임 규칙 등)\n",
    "    system = messages[0:1]  \n",
    "\n",
    "    # system 이후의 모든 user/assistant 메시지\n",
    "    rest = messages[1:]      \n",
    "\n",
    "    # max_turns 만큼의 최근 대화만 남김\n",
    "    # 한 턴은 (user + assistant) 2개의 메시지이므로 *2를 해줌\n",
    "    trimmed = rest[-(max_turns*2):]  \n",
    "\n",
    "    # system + 최근 대화만 합쳐서 반환\n",
    "    return system + trimmed"
   ]
  },
  {
   "cell_type": "code",
   "execution_count": 11,
   "id": "8f688ccd",
   "metadata": {},
   "outputs": [
    {
     "name": "stdout",
     "output_type": "stream",
     "text": [
      "나: 철수는 갑자기 배가 고파졌어요\n",
      "GPT: 그래서 그는 냉장고를 열어보았지만, 안에는 고양이의 간식밖에 없었어요.\n",
      "나: 철수는 생각했어요, \"아, 이거라도 그냥 먹을까?\"\n",
      "GPT: 하지만 그 순간, 고양이가 철수의 발을 붙잡고 \"그건 내 거야!\"라고 외쳤어요.\n",
      "나: 하지만 철수도 지지 않았습니다, \"닥쳐 이 멍청한 고양이 녀석. 간식은 전부 내꺼다!\"\n",
      "GPT: 고양이는 눈을 반짝이며 \"그럼 내가 너의 비밀을 폭로할게!\"라고 위협했어요.\n",
      "나: 철수의 눈동자가 흔들렸어요. 왜냐하면 그의 사생활은 사실 굉장히 문란했기 때문입니다.\n",
      "GPT: 고양이는 웃으며 \"지난 주말, 네가 소파에서 춤추며 피자를 먹던 모습을 내가 다 봤어!\"라고 폭로했어요.\n",
      "소설 완성!\n"
     ]
    }
   ],
   "source": [
    "while True:\n",
    "    user_line = input(\"나: \").strip()\n",
    "    if user_line == \"그만\":\n",
    "        print(\"소설 완성!\")\n",
    "        break\n",
    "\n",
    "    # Add your one-sentence input\n",
    "    messages.append({\"role\": \"user\", \"content\": user_line})\n",
    "    print(\"나:\", user_line)\n",
    "\n",
    "    # Ask model for the next one sentence\n",
    "    reply = relay_novel(messages)\n",
    "    print(\"GPT:\", reply)\n",
    "\n",
    "    # Append assistant reply & trim to keep context light\n",
    "    messages.append({\"role\": \"assistant\", \"content\": reply})\n",
    "    messages = trim_messages(messages, max_turns=20)"
   ]
  },
  {
   "cell_type": "code",
   "execution_count": null,
   "id": "ab9ce736",
   "metadata": {},
   "outputs": [],
   "source": []
  }
 ],
 "metadata": {
  "kernelspec": {
   "display_name": "llm_env",
   "language": "python",
   "name": "python3"
  },
  "language_info": {
   "codemirror_mode": {
    "name": "ipython",
    "version": 3
   },
   "file_extension": ".py",
   "mimetype": "text/x-python",
   "name": "python",
   "nbconvert_exporter": "python",
   "pygments_lexer": "ipython3",
   "version": "3.12.11"
  }
 },
 "nbformat": 4,
 "nbformat_minor": 5
}
