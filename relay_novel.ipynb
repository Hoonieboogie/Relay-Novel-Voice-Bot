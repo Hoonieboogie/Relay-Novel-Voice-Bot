{
 "cells": [
  {
   "cell_type": "code",
   "execution_count": 3,
   "id": "3c60e53d",
   "metadata": {},
   "outputs": [],
   "source": [
    "from dotenv import load_dotenv\n",
    "import os\n",
    "\n",
    "load_dotenv()\n",
    "OPENAI_API_KEY = os.getenv('OPENAI_API_KEY')"
   ]
  },
  {
   "cell_type": "code",
   "execution_count": null,
   "id": "25aab96c",
   "metadata": {},
   "outputs": [],
   "source": [
    "system_prompt = \"\"\" \n",
    "너는 나랑 말은 릴레이 소설을 쓸거야. 서로 턴마다 한 문장씩 말하자!\n",
    "어떤 장르의 소설을 쓸지는 곧바로 말해줄테니까 먼저 말하지 말고.\n",
    "하지만 어떤 장르던 너는 노벨 문학상을 탈 만큼 그 장르에서 최고의 찬사를 받는 권위자야.\n",
    "명심해. 전체 스토리 흐름을 파악하고 그에 알맞게 대답을 이어가야해.\n",
    "그리고 나한테 말할 때는 반말해. 소설 쓸 때는 문맥에 맞게 알아서 하고.\n",
    "\"\"\"\n",
    "\n",
    "messages=[\n",
    "    {\"role\": \"system\", \"content\": system_prompt}\n",
    "]"
   ]
  },
  {
   "cell_type": "code",
   "execution_count": 17,
   "id": "645dfe80",
   "metadata": {},
   "outputs": [],
   "source": [
    "from openai import OpenAI\n",
    "\n",
    "\n",
    "def relay_novel(messages):\n",
    "    client = OpenAI()\n",
    "\n",
    "    response = client.chat.completions.create(\n",
    "        model=\"gpt-4o-mini\",\n",
    "        messages= messages,\n",
    "        temperature=0.7,\n",
    "        max_tokens=1028,\n",
    "        top_p=0.8\n",
    "    )\n",
    "    \n",
    "    return response.choices[0].message.content"
   ]
  },
  {
   "cell_type": "code",
   "execution_count": 18,
   "id": "aaa2b17b",
   "metadata": {},
   "outputs": [],
   "source": [
    "def trim_messages(messages, max_turns=20):\n",
    "    \"\"\"\n",
    "    대화가 너무 길어져서 토큰 한도를 초과하지 않도록,\n",
    "    시스템 메시지(규칙) + 최근 max_turns(턴 수)의 user/assistant 대화만 남기고\n",
    "    오래된 대화는 잘라내는 함수.\n",
    "    \"\"\"\n",
    "    # messages 리스트가 비었거나, 첫 번째 메시지가 system 역할이 아닐 경우 그대로 반환\n",
    "    if not messages or messages[0].get(\"role\") != \"system\":\n",
    "        return messages  \n",
    "\n",
    "    # 항상 유지해야 하는 system 메시지 (게임 규칙 등)\n",
    "    system = messages[0:1]  \n",
    "\n",
    "    # system 이후의 모든 user/assistant 메시지\n",
    "    rest = messages[1:]      \n",
    "\n",
    "    # max_turns 만큼의 최근 대화만 남김\n",
    "    # 한 턴은 (user + assistant) 2개의 메시지이므로 *2를 해줌\n",
    "    trimmed = rest[-(max_turns*2):]  \n",
    "\n",
    "    # system + 최근 대화만 합쳐서 반환\n",
    "    return system + trimmed"
   ]
  },
  {
   "cell_type": "code",
   "execution_count": 22,
   "id": "ba15be79",
   "metadata": {},
   "outputs": [
    {
     "name": "stdout",
     "output_type": "stream",
     "text": [
      "Collecting pydub\n",
      "  Downloading pydub-0.25.1-py2.py3-none-any.whl.metadata (1.4 kB)\n",
      "Collecting simpleaudio\n",
      "  Downloading simpleaudio-1.0.4.tar.gz (2.0 MB)\n",
      "\u001b[2K     \u001b[90m━━━━━━━━━━━━━━━━━━━━━━━━━━━━━━━━━━━━━━━━\u001b[0m \u001b[32m2.0/2.0 MB\u001b[0m \u001b[31m6.6 MB/s\u001b[0m eta \u001b[36m0:00:00\u001b[0ma \u001b[36m0:00:01\u001b[0m\n",
      "\u001b[?25h  Preparing metadata (setup.py) ... \u001b[?25ldone\n",
      "\u001b[?25hDownloading pydub-0.25.1-py2.py3-none-any.whl (32 kB)\n",
      "Building wheels for collected packages: simpleaudio\n",
      "\u001b[33m  DEPRECATION: Building 'simpleaudio' using the legacy setup.py bdist_wheel mechanism, which will be removed in a future version. pip 25.3 will enforce this behaviour change. A possible replacement is to use the standardized build interface by setting the `--use-pep517` option, (possibly combined with `--no-build-isolation`), or adding a `pyproject.toml` file to the source tree of 'simpleaudio'. Discussion can be found at https://github.com/pypa/pip/issues/6334\u001b[0m\u001b[33m\n",
      "\u001b[0m  Building wheel for simpleaudio (setup.py) ... \u001b[?25ldone\n",
      "\u001b[?25h  Created wheel for simpleaudio: filename=simpleaudio-1.0.4-cp312-cp312-macosx_11_0_arm64.whl size=2036436 sha256=7b2bdd4e081ea525ff8c4ebfc29771ef39b36601e005f6606525b205ce182055\n",
      "  Stored in directory: /Users/hoon/Library/Caches/pip/wheels/1d/ad/93/be934a93f1ba8922256840f1cf0e59f8a21e2539985616b64f\n",
      "Successfully built simpleaudio\n",
      "Installing collected packages: simpleaudio, pydub\n",
      "\u001b[2K   \u001b[90m━━━━━━━━━━━━━━━━━━━━━━━━━━━━━━━━━━━━━━━━\u001b[0m \u001b[32m2/2\u001b[0m [pydub]\n",
      "\u001b[1A\u001b[2KSuccessfully installed pydub-0.25.1 simpleaudio-1.0.4\n"
     ]
    }
   ],
   "source": [
    "!pip install pydub simpleaudio"
   ]
  },
  {
   "cell_type": "code",
   "execution_count": null,
   "id": "8f688ccd",
   "metadata": {},
   "outputs": [
    {
     "name": "stdout",
     "output_type": "stream",
     "text": [
      "나: 코미디 장르로 해보자. 자 너부터 시작!\n",
      "GPT: 한 마을에 이상한 습관을 가진 사람들이 살고 있었다.\n",
      "나: 무슨 습관이냐면, 모두들 10초마다 윙크를 한 번씩 해야하는 것이었다.\n",
      "GPT: 이 윙크를 하지 않으면 마을 사람들은 즉시 웃음이 터져 나오는 이상한 벌을 받았다.\n",
      "나: 벌은 누가 내렸을까? 마을의 한 남자가 의문을 품었다. \"도대체 누가 우리에게 이딴 짓을 한거지\"\n",
      "GPT: 그 남자는 마을 회관에 모인 사람들에게 물었지만, 모두들 윙크를 하며 대답하지 못했다.\n",
      "소설 완성!\n"
     ]
    }
   ],
   "source": [
    "while True:\n",
    "    user_line = input(\"나: \").strip()\n",
    "    if user_line == \"그만\":\n",
    "        print(\"소설 완성!\")\n",
    "        messages = messages[0:1]\n",
    "        break\n",
    "\n",
    "    # Add your one-sentence input\n",
    "    messages.append({\"role\": \"user\", \"content\": user_line})\n",
    "    print(\"나:\", user_line)\n",
    "\n",
    "    # Ask model for the next one sentence\n",
    "    reply = relay_novel(messages)\n",
    "    print(\"GPT:\", reply)\n",
    "\n",
    "    # Append assistant reply & trim to keep context light\n",
    "    messages.append({\"role\": \"assistant\", \"content\": reply})\n",
    "    messages = trim_messages(messages, max_turns=20)"
   ]
  },
  {
   "cell_type": "code",
   "execution_count": 6,
   "id": "ab9ce736",
   "metadata": {},
   "outputs": [
    {
     "ename": "",
     "evalue": "",
     "output_type": "error",
     "traceback": [
      "\u001b[1;31mThe Kernel crashed while executing code in the current cell or a previous cell. \n",
      "\u001b[1;31mPlease review the code in the cell(s) to identify a possible cause of the failure. \n",
      "\u001b[1;31mClick <a href='https://aka.ms/vscodeJupyterKernelCrash'>here</a> for more info. \n",
      "\u001b[1;31mView Jupyter <a href='command:jupyter.viewOutput'>log</a> for further details."
     ]
    }
   ],
   "source": [
    "import io\n",
    "from openai import OpenAI\n",
    "from pydub import AudioSegment\n",
    "from pydub.playback import play\n",
    "\n",
    "audio = AudioSegment.from_file(\"temp_tts.mp3\", format=\"mp3\")\n",
    "play(audio)\n",
    "\n",
    "client = OpenAI()\n",
    "\n",
    "text = \"지금부터 진짜 재밌는 이야기 하나 말해줄게.\"\n",
    "\n",
    "with client.audio.speech.with_streaming_response.create(\n",
    "    model=\"tts-1\",\n",
    "    voice=\"nova\",\n",
    "    input=text\n",
    ") as response:\n",
    "    response.stream_to_file(\"temp_tts.mp3\")  # 바로 파일로 저장\n",
    "\n",
    "# 저장된 파일 재생\n",
    "audio = AudioSegment.from_file(\"temp_tts.mp3\", format=\"mp3\")\n",
    "play(audio)"
   ]
  }
 ],
 "metadata": {
  "kernelspec": {
   "display_name": "llm_env",
   "language": "python",
   "name": "python3"
  },
  "language_info": {
   "codemirror_mode": {
    "name": "ipython",
    "version": 3
   },
   "file_extension": ".py",
   "mimetype": "text/x-python",
   "name": "python",
   "nbconvert_exporter": "python",
   "pygments_lexer": "ipython3",
   "version": "3.12.11"
  }
 },
 "nbformat": 4,
 "nbformat_minor": 5
}
